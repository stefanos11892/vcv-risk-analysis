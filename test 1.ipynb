{
 "cells": [
  {
   "cell_type": "code",
   "execution_count": 1,
   "id": "fe73b401-0b1e-4d62-8bbe-2b7dd9f8fb3c",
   "metadata": {},
   "outputs": [
    {
     "name": "stdout",
     "output_type": "stream",
     "text": [
      "✅ Use this start date for all tickers: 2022-03-01 00:00:00+00:00\n",
      "                             AMD        META  MSFT  SOFI\n",
      "date                                                    \n",
      "2020-01-02 00:00:00+00:00  49.10  208.648584   NaN   NaN\n",
      "2020-01-03 00:00:00+00:00  48.60  207.544571   NaN   NaN\n",
      "2020-01-06 00:00:00+00:00  48.39  211.453375   NaN   NaN\n",
      "2020-01-07 00:00:00+00:00  48.25  211.910894   NaN   NaN\n",
      "2020-01-08 00:00:00+00:00  47.83  214.059244   NaN   NaN\n"
     ]
    }
   ],
   "source": [
    "from src.data_loader import download_data\n",
    "import pandas as pd\n",
    "\n",
    "# ✅ Step 1: Set parameters\n",
    "tickers = [\"AMD\", \"META\", \"MSFT\", \"SOFI\"]\n",
    "local_path = \"csv\"\n",
    "end = \"2023-07-27\"\n",
    "\n",
    "# ✅ Step 2: Find latest common start date\n",
    "start_dates = []\n",
    "\n",
    "for ticker in tickers:\n",
    "    df = pd.read_csv(f\"{local_path}/{ticker}_data.csv\", parse_dates=[\"date\"])\n",
    "    start_dates.append(df['date'].min())\n",
    "\n",
    "latest_common_start = max(start_dates)\n",
    "print(f\"✅ Use this start date for all tickers: {latest_common_start}\")\n",
    "\n",
    "# ✅ Step 3: Load the data using your new loader\n",
    "df = download_data(\n",
    "    tickers=tickers,\n",
    "    start=str(latest_common_start.date()),  # Convert Timestamp to \"YYYY-MM-DD\"\n",
    "    end=end,\n",
    "    local_path=local_path\n",
    ")\n",
    "\n",
    "# ✅ Preview\n",
    "print(df.head())\n"
   ]
  },
  {
   "cell_type": "code",
   "execution_count": null,
   "id": "38329716-c092-4f58-bf7d-e1c71796b792",
   "metadata": {},
   "outputs": [],
   "source": [
    "\n",
    "\n"
   ]
  },
  {
   "cell_type": "code",
   "execution_count": null,
   "id": "b34fa923-f2f1-4d6d-8ad4-930d98d87ef3",
   "metadata": {},
   "outputs": [],
   "source": []
  },
  {
   "cell_type": "code",
   "execution_count": null,
   "id": "c21ee22b-f2dc-4fb4-8640-fb541fab0a17",
   "metadata": {},
   "outputs": [],
   "source": []
  },
  {
   "cell_type": "code",
   "execution_count": null,
   "id": "b603f2a9-5ded-4413-99c7-003bf5045907",
   "metadata": {},
   "outputs": [],
   "source": []
  }
 ],
 "metadata": {
  "kernelspec": {
   "display_name": "Python 3 (ipykernel)",
   "language": "python",
   "name": "python3"
  },
  "language_info": {
   "codemirror_mode": {
    "name": "ipython",
    "version": 3
   },
   "file_extension": ".py",
   "mimetype": "text/x-python",
   "name": "python",
   "nbconvert_exporter": "python",
   "pygments_lexer": "ipython3",
   "version": "3.12.1"
  }
 },
 "nbformat": 4,
 "nbformat_minor": 5
}
