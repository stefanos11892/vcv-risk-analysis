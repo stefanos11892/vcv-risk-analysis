{
 "cells": [
  {
   "cell_type": "code",
   "execution_count": null,
   "id": "aad15508-66b8-4ff9-9b85-f5a7e95e26e2",
   "metadata": {},
   "outputs": [],
   "source": []
  },
  {
   "cell_type": "code",
   "execution_count": 1,
   "id": "5236c383-be3f-486c-80b2-4b9defe5ab22",
   "metadata": {},
   "outputs": [
    {
     "name": "stdout",
     "output_type": "stream",
     "text": [
      "\u001b[1m============================= test session starts =============================\u001b[0m\n",
      "platform win32 -- Python 3.12.1, pytest-8.3.5, pluggy-1.5.0\n",
      "rootdir: C:\\Users\\Michailides\\projects\\VCVRiskAnalysis\\tests\n",
      "plugins: anyio-4.9.0\n",
      "collected 1 item\n",
      "\n",
      "test_stress_tests.py \u001b[32m.\u001b[0m\u001b[33m                                                   [100%]\u001b[0m\n",
      "\n",
      "\u001b[33m============================== warnings summary ===============================\u001b[0m\n",
      "..\\..\\..\\AppData\\Roaming\\Python\\Python312\\site-packages\\dateutil\\tz\\tz.py:37\n",
      "  C:\\Users\\Michailides\\AppData\\Roaming\\Python\\Python312\\site-packages\\dateutil\\tz\\tz.py:37: DeprecationWarning: datetime.datetime.utcfromtimestamp() is deprecated and scheduled for removal in a future version. Use timezone-aware objects to represent datetimes in UTC: datetime.datetime.fromtimestamp(timestamp, datetime.UTC).\n",
      "    EPOCH = datetime.datetime.utcfromtimestamp(0)\n",
      "\n",
      "-- Docs: https://docs.pytest.org/en/stable/how-to/capture-warnings.html\n",
      "\u001b[33m======================== \u001b[32m1 passed\u001b[0m, \u001b[33m\u001b[1m1 warning\u001b[0m\u001b[33m in 0.62s\u001b[0m\u001b[33m =========================\u001b[0m\n"
     ]
    }
   ],
   "source": [
    "!pytest C:\\Users\\Michailides\\projects\\VCVRiskAnalysis\\tests\\test_stress_tests.py\n"
   ]
  },
  {
   "cell_type": "code",
   "execution_count": null,
   "id": "74ba3ae9-ad3a-44d8-975b-adfe83500da7",
   "metadata": {},
   "outputs": [],
   "source": [
    "\n"
   ]
  },
  {
   "cell_type": "code",
   "execution_count": null,
   "id": "c6ae4ceb-930b-4f23-a8b7-a5c95b31ec24",
   "metadata": {},
   "outputs": [],
   "source": []
  },
  {
   "cell_type": "code",
   "execution_count": null,
   "id": "a20fb788-2433-43ff-b0a7-43df652b9d00",
   "metadata": {},
   "outputs": [],
   "source": [
    "\n"
   ]
  },
  {
   "cell_type": "code",
   "execution_count": null,
   "id": "fa637155-beae-4fe6-8024-832b466cb229",
   "metadata": {},
   "outputs": [],
   "source": []
  }
 ],
 "metadata": {
  "kernelspec": {
   "display_name": "Python 3 (ipykernel)",
   "language": "python",
   "name": "python3"
  },
  "language_info": {
   "codemirror_mode": {
    "name": "ipython",
    "version": 3
   },
   "file_extension": ".py",
   "mimetype": "text/x-python",
   "name": "python",
   "nbconvert_exporter": "python",
   "pygments_lexer": "ipython3",
   "version": "3.12.1"
  }
 },
 "nbformat": 4,
 "nbformat_minor": 5
}
