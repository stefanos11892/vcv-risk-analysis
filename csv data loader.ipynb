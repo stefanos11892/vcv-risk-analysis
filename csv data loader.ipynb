{
 "cells": [
  {
   "cell_type": "code",
   "execution_count": null,
   "id": "1f389795-0e8f-4283-a70f-febf0d4d7602",
   "metadata": {},
   "outputs": [],
   "source": [
    "import requests\n",
    "import pandas as pd\n",
    "import os\n",
    "\n",
    "def fetch_tiingo_data(ticker: str, start_date: str, end_date: str, token: str, save_path: str = None) -> pd.DataFrame:\n",
    "    \"\"\"\n",
    "    Fetch historical price data from Tiingo and optionally save to CSV.\n",
    "\n",
    "    Parameters:\n",
    "        ticker (str): e.g. 'MSFT'\n",
    "        start_date (str): e.g. '2022-01-01'\n",
    "        end_date (str): e.g. '2023-06-01'\n",
    "        token (str): Tiingo API token\n",
    "        save_path (str): Optional path to save the CSV, e.g. 'csv/MSFT_data.csv'\n",
    "\n",
    "    Returns:\n",
    "        pd.DataFrame: DataFrame with historical prices.\n",
    "    \"\"\"\n",
    "    url = f'https://api.tiingo.com/tiingo/daily/{ticker}/prices'\n",
    "    params = {\n",
    "        'startDate': start_date,\n",
    "        'endDate': end_date,\n",
    "        'resampleFreq': 'daily',\n",
    "        'format': 'json',\n",
    "        'token': token\n",
    "    }\n",
    "\n",
    "    response = requests.get(url, params=params)\n",
    "    response.raise_for_status()  # Raise exception for HTTP errors\n",
    "\n",
    "    data = pd.DataFrame(response.json())\n",
    "\n",
    "    if data.empty:\n",
    "        raise ValueError(f\"No data returned for ticker '{ticker}'.\")\n",
    "\n",
    "    data.set_index('date', inplace=True)\n",
    "\n",
    "    if save_path:\n",
    "        os.makedirs(os.path.dirname(save_path), exist_ok=True)\n",
    "        data.to_csv(save_path)\n",
    "\n",
    "    return data\n"
   ]
  },
  {
   "cell_type": "code",
   "execution_count": null,
   "id": "244c330a-b7da-40a1-b2aa-fd2c611ec05f",
   "metadata": {},
   "outputs": [],
   "source": [
    "# Parameters\n",
    "tickers = [\"AMD\", \"TSM\", \"META\", \"SOFI\"]\n",
    "start_date = \"2020-01-01\"\n",
    "end_date = \"2025-07-26\"\n",
    "token = \"d420141e808a1c06f08accc7a3f9d8ba3fbe46ae\"  # your Tiingo token\n",
    "base_path = \"C:/Users/Michailides/projects/VCVRiskAnalysis/csv\"\n",
    "\n",
    "# Fetch and save data\n",
    "for ticker in tickers:\n",
    "    save_path = os.path.join(base_path, f\"{ticker}_data.csv\")\n",
    "    df = fetch_tiingo_data(ticker, start_date, end_date, token, save_path)\n",
    "    print(f\"✅ {ticker} saved to: {save_path}\")\n",
    "\n"
   ]
  },
  {
   "cell_type": "code",
   "execution_count": null,
   "id": "34b51a9c-172a-4d5b-a362-deae1401e6c6",
   "metadata": {},
   "outputs": [],
   "source": [
    "\n"
   ]
  },
  {
   "cell_type": "code",
   "execution_count": null,
   "id": "5f97d715-6319-4ae6-a892-4eb6ef008f29",
   "metadata": {},
   "outputs": [],
   "source": []
  }
 ],
 "metadata": {
  "kernelspec": {
   "display_name": "Python 3 (ipykernel)",
   "language": "python",
   "name": "python3"
  },
  "language_info": {
   "codemirror_mode": {
    "name": "ipython",
    "version": 3
   },
   "file_extension": ".py",
   "mimetype": "text/x-python",
   "name": "python",
   "nbconvert_exporter": "python",
   "pygments_lexer": "ipython3",
   "version": "3.12.1"
  }
 },
 "nbformat": 4,
 "nbformat_minor": 5
}
