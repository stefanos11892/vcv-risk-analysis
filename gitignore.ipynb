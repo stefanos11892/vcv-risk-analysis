{
 "cells": [
  {
   "cell_type": "code",
   "execution_count": null,
   "id": "8fc3d289-b2f1-4362-a587-4e221e7abc76",
   "metadata": {},
   "outputs": [],
   "source": [
    "# Ignore conda package cache\n",
    ".conda/\n",
    "pkgs/\n",
    "*.json\n",
    "\n",
    "# Jupyter checkpoints\n",
    ".ipynb_checkpoints/\n",
    "\n",
    "# Python cache\n",
    "__pycache__/\n",
    "*.py[cod]\n",
    ".mypy_cache/\n",
    "\n",
    "# Environment folders\n",
    "env/\n",
    "venv/\n",
    ".venv/\n",
    "\n",
    "# OS files\n",
    ".DS_Store\n",
    "Thumbs.db\n",
    "\n",
    "# Jupyter autosaves and outputs\n",
    "*.log\n",
    "*.out\n",
    "*.bak\n"
   ]
  }
 ],
 "metadata": {
  "kernelspec": {
   "display_name": "Python 3 (ipykernel)",
   "language": "python",
   "name": "python3"
  },
  "language_info": {
   "codemirror_mode": {
    "name": "ipython",
    "version": 3
   },
   "file_extension": ".py",
   "mimetype": "text/x-python",
   "name": "python",
   "nbconvert_exporter": "python",
   "pygments_lexer": "ipython3",
   "version": "3.12.1"
  }
 },
 "nbformat": 4,
 "nbformat_minor": 5
}
